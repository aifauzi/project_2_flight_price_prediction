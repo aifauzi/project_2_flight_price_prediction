{
 "cells": [
  {
   "cell_type": "markdown",
   "metadata": {},
   "source": [
    "# Model Inference\n",
    "---"
   ]
  },
  {
   "cell_type": "code",
   "execution_count": 1,
   "metadata": {},
   "outputs": [],
   "source": [
    "#import library\n",
    "\n",
    "import pickle\n",
    "import json\n",
    "import pandas as pd\n",
    "import numpy as np"
   ]
  },
  {
   "cell_type": "code",
   "execution_count": 11,
   "metadata": {},
   "outputs": [],
   "source": [
    "#kita load model\n",
    "\n",
    "with open('list_num_cols.txt', 'r') as file_1:\n",
    "  list_num_col = json.load(file_1)\n",
    "\n",
    "with open('list_cat_cols_enc.txt', 'r') as file_2:\n",
    "  list_cat_col_enc = json.load(file_2)\n",
    "\n",
    "with open('standard_scaler.pkl', 'rb') as file_3:\n",
    "  scaler = pickle.load(file_3)\n",
    "\n",
    "with open('ohe_encoder.pkl', 'rb') as file_4:\n",
    "  enc_ohe = pickle.load(file_4)\n",
    "\n",
    "with open('model_regresi.pkl', 'rb') as file_5:\n",
    "  model_ridge = pickle.load(file_5)\n",
    "\n",
    "with open('list_cat_cols_notenc.txt', 'r') as file_6:\n",
    "  list_cat_col_notenc = json.load(file_6)"
   ]
  },
  {
   "cell_type": "code",
   "execution_count": 12,
   "metadata": {},
   "outputs": [
    {
     "data": {
      "text/html": [
       "<div>\n",
       "<style scoped>\n",
       "    .dataframe tbody tr th:only-of-type {\n",
       "        vertical-align: middle;\n",
       "    }\n",
       "\n",
       "    .dataframe tbody tr th {\n",
       "        vertical-align: top;\n",
       "    }\n",
       "\n",
       "    .dataframe thead th {\n",
       "        text-align: right;\n",
       "    }\n",
       "</style>\n",
       "<table border=\"1\" class=\"dataframe\">\n",
       "  <thead>\n",
       "    <tr style=\"text-align: right;\">\n",
       "      <th></th>\n",
       "      <th>startingAirport</th>\n",
       "      <th>destinationAirport</th>\n",
       "      <th>elapsedDays</th>\n",
       "      <th>isBasicEconomy</th>\n",
       "      <th>isRefundable</th>\n",
       "      <th>isNonStop</th>\n",
       "      <th>baseFare</th>\n",
       "      <th>seatsRemaining</th>\n",
       "      <th>totalTravelDistance</th>\n",
       "      <th>orderingDistance</th>\n",
       "      <th>monthDeparture</th>\n",
       "      <th>travelDurationInMinutes</th>\n",
       "      <th>firstHourDeparture</th>\n",
       "      <th>firstDepartureAirlineCode</th>\n",
       "      <th>sumFlight</th>\n",
       "      <th>durationFlightInMinutes</th>\n",
       "      <th>seasonDeparture</th>\n",
       "      <th>firstCabinCode</th>\n",
       "      <th>totalWaitingTimeTransit</th>\n",
       "    </tr>\n",
       "  </thead>\n",
       "  <tbody>\n",
       "    <tr>\n",
       "      <th>0</th>\n",
       "      <td>IAD</td>\n",
       "      <td>OAK</td>\n",
       "      <td>0</td>\n",
       "      <td>0</td>\n",
       "      <td>0</td>\n",
       "      <td>0</td>\n",
       "      <td>228</td>\n",
       "      <td>4</td>\n",
       "      <td>372</td>\n",
       "      <td>46</td>\n",
       "      <td>6</td>\n",
       "      <td>262</td>\n",
       "      <td>14</td>\n",
       "      <td>UA</td>\n",
       "      <td>2</td>\n",
       "      <td>206</td>\n",
       "      <td>spring</td>\n",
       "      <td>coach</td>\n",
       "      <td>56</td>\n",
       "    </tr>\n",
       "  </tbody>\n",
       "</table>\n",
       "</div>"
      ],
      "text/plain": [
       "  startingAirport destinationAirport  elapsedDays  isBasicEconomy  \\\n",
       "0             IAD                OAK            0               0   \n",
       "\n",
       "   isRefundable  isNonStop  baseFare  seatsRemaining  totalTravelDistance  \\\n",
       "0             0          0       228               4                  372   \n",
       "\n",
       "   orderingDistance  monthDeparture  travelDurationInMinutes  \\\n",
       "0                46               6                      262   \n",
       "\n",
       "   firstHourDeparture firstDepartureAirlineCode  sumFlight  \\\n",
       "0                  14                        UA          2   \n",
       "\n",
       "   durationFlightInMinutes seasonDeparture firstCabinCode  \\\n",
       "0                      206          spring          coach   \n",
       "\n",
       "   totalWaitingTimeTransit  \n",
       "0                       56  "
      ]
     },
     "execution_count": 12,
     "metadata": {},
     "output_type": "execute_result"
    }
   ],
   "source": [
    "# kita buat data baru yang akan digunakan untuk memprediksi \n",
    "\n",
    "data_inf = {'startingAirport': 'IAD',\n",
    "            'destinationAirport': 'OAK',\n",
    "            'elapsedDays': 0,\n",
    "            'isBasicEconomy': 0,\n",
    "            'isRefundable': 0,\n",
    "            'isNonStop': 0,\n",
    "            'baseFare': 228,\n",
    "            'seatsRemaining': 4,\n",
    "            'totalTravelDistance': 372,\n",
    "            'orderingDistance': 46,\n",
    "            'monthDeparture': 6,\n",
    "            'travelDurationInMinutes': 262,\n",
    "            'firstHourDeparture': 14,\n",
    "            'firstDepartureAirlineCode': 'UA',\n",
    "            'sumFlight': 2,\n",
    "            'durationFlightInMinutes': 206,\n",
    "            'seasonDeparture': 'spring',\n",
    "            'firstCabinCode': 'coach',\n",
    "            'totalWaitingTimeTransit': 56 \n",
    "            }\n",
    "\n",
    "data_inf = pd.DataFrame([data_inf])\n",
    "data_inf"
   ]
  },
  {
   "cell_type": "code",
   "execution_count": 13,
   "metadata": {},
   "outputs": [],
   "source": [
    "# kita pisahkan data numerik dan kategorik\n",
    "\n",
    "data_inf_num = data_inf[list_num_col]\n",
    "data_inf_cat_enc = data_inf[list_cat_col_enc]\n",
    "data_inf_cat_notenc = data_inf[list_cat_col_notenc]"
   ]
  },
  {
   "cell_type": "code",
   "execution_count": 14,
   "metadata": {},
   "outputs": [
    {
     "data": {
      "text/html": [
       "<div>\n",
       "<style scoped>\n",
       "    .dataframe tbody tr th:only-of-type {\n",
       "        vertical-align: middle;\n",
       "    }\n",
       "\n",
       "    .dataframe tbody tr th {\n",
       "        vertical-align: top;\n",
       "    }\n",
       "\n",
       "    .dataframe thead th {\n",
       "        text-align: right;\n",
       "    }\n",
       "</style>\n",
       "<table border=\"1\" class=\"dataframe\">\n",
       "  <thead>\n",
       "    <tr style=\"text-align: right;\">\n",
       "      <th></th>\n",
       "      <th>baseFare</th>\n",
       "      <th>seatsRemaining</th>\n",
       "      <th>totalTravelDistance</th>\n",
       "      <th>orderingDistance</th>\n",
       "      <th>travelDurationInMinutes</th>\n",
       "      <th>durationFlightInMinutes</th>\n",
       "      <th>totalWaitingTimeTransit</th>\n",
       "    </tr>\n",
       "  </thead>\n",
       "  <tbody>\n",
       "    <tr>\n",
       "      <th>0</th>\n",
       "      <td>228</td>\n",
       "      <td>4</td>\n",
       "      <td>372</td>\n",
       "      <td>46</td>\n",
       "      <td>262</td>\n",
       "      <td>206</td>\n",
       "      <td>56</td>\n",
       "    </tr>\n",
       "  </tbody>\n",
       "</table>\n",
       "</div>"
      ],
      "text/plain": [
       "   baseFare  seatsRemaining  totalTravelDistance  orderingDistance  \\\n",
       "0       228               4                  372                46   \n",
       "\n",
       "   travelDurationInMinutes  durationFlightInMinutes  totalWaitingTimeTransit  \n",
       "0                      262                      206                       56  "
      ]
     },
     "execution_count": 14,
     "metadata": {},
     "output_type": "execute_result"
    }
   ],
   "source": [
    "# kita cek\n",
    "data_inf_num"
   ]
  },
  {
   "cell_type": "code",
   "execution_count": 20,
   "metadata": {},
   "outputs": [],
   "source": [
    "# kita lakukan scaling dan encoding\n",
    "\n",
    "data_inf_num_scaled = scaler.transform(data_inf_num)\n",
    "data_inf_cat_encoded = enc_ohe.transform(data_inf_cat_enc).toarray()\n",
    "data_inf_final = np.concatenate([data_inf_num_scaled, data_inf_cat_encoded, data_inf_cat_notenc], axis = 1)"
   ]
  },
  {
   "cell_type": "code",
   "execution_count": 26,
   "metadata": {},
   "outputs": [
    {
     "name": "stderr",
     "output_type": "stream",
     "text": [
      "C:\\Users\\ARIF\\AppData\\Local\\Temp\\ipykernel_8940\\2624301102.py:2: PerformanceWarning: dropping on a non-lexsorted multi-index without a level parameter may impact performance.\n",
      "  data_inf_df = data_inf_df.drop(['orderingDistance', 'firstHourDeparture'], axis=1)\n"
     ]
    }
   ],
   "source": [
    "data_inf_df = pd.DataFrame(data_inf_final, columns=[list_num_col + list(enc_ohe.get_feature_names_out()) + list_cat_col_notenc])\n",
    "data_inf_df = data_inf_df.drop(['orderingDistance', 'firstHourDeparture'], axis=1)"
   ]
  },
  {
   "cell_type": "code",
   "execution_count": 28,
   "metadata": {},
   "outputs": [
    {
     "data": {
      "text/plain": [
       "array([[267.61294599]])"
      ]
     },
     "execution_count": 28,
     "metadata": {},
     "output_type": "execute_result"
    }
   ],
   "source": [
    "# kita lakukan predict dengan Ridge\n",
    "\n",
    "y_pred_inf = model_ridge.predict(data_inf_df)\n",
    "y_pred_inf"
   ]
  },
  {
   "cell_type": "markdown",
   "metadata": {},
   "source": [
    "Insight:\n",
    "* Kita dapat prediksi harga tiketnya sekitar 267.6"
   ]
  }
 ],
 "metadata": {
  "kernelspec": {
   "display_name": "base",
   "language": "python",
   "name": "python3"
  },
  "language_info": {
   "codemirror_mode": {
    "name": "ipython",
    "version": 3
   },
   "file_extension": ".py",
   "mimetype": "text/x-python",
   "name": "python",
   "nbconvert_exporter": "python",
   "pygments_lexer": "ipython3",
   "version": "3.9.18"
  }
 },
 "nbformat": 4,
 "nbformat_minor": 2
}
